{
  "cells": [
    {
      "cell_type": "code",
      "execution_count": 85,
      "metadata": {
        "colab": {
          "base_uri": "https://localhost:8080/"
        },
        "id": "cATvejfQrXZu",
        "outputId": "9128265f-50cf-4fc1-9ec2-a5907adc15de"
      },
      "outputs": [
        {
          "output_type": "stream",
          "name": "stdout",
          "text": [
            "Requirement already satisfied: gradio in /usr/local/lib/python3.11/dist-packages (5.16.0)\n",
            "Requirement already satisfied: aiofiles<24.0,>=22.0 in /usr/local/lib/python3.11/dist-packages (from gradio) (23.2.1)\n",
            "Requirement already satisfied: anyio<5.0,>=3.0 in /usr/local/lib/python3.11/dist-packages (from gradio) (3.7.1)\n",
            "Requirement already satisfied: fastapi<1.0,>=0.115.2 in /usr/local/lib/python3.11/dist-packages (from gradio) (0.115.8)\n",
            "Requirement already satisfied: ffmpy in /usr/local/lib/python3.11/dist-packages (from gradio) (0.5.0)\n",
            "Requirement already satisfied: gradio-client==1.7.0 in /usr/local/lib/python3.11/dist-packages (from gradio) (1.7.0)\n",
            "Requirement already satisfied: httpx>=0.24.1 in /usr/local/lib/python3.11/dist-packages (from gradio) (0.28.1)\n",
            "Requirement already satisfied: huggingface-hub>=0.28.1 in /usr/local/lib/python3.11/dist-packages (from gradio) (0.28.1)\n",
            "Requirement already satisfied: jinja2<4.0 in /usr/local/lib/python3.11/dist-packages (from gradio) (3.1.5)\n",
            "Requirement already satisfied: markupsafe~=2.0 in /usr/local/lib/python3.11/dist-packages (from gradio) (2.1.5)\n",
            "Requirement already satisfied: numpy<3.0,>=1.0 in /usr/local/lib/python3.11/dist-packages (from gradio) (1.26.4)\n",
            "Requirement already satisfied: orjson~=3.0 in /usr/local/lib/python3.11/dist-packages (from gradio) (3.10.15)\n",
            "Requirement already satisfied: packaging in /usr/local/lib/python3.11/dist-packages (from gradio) (24.2)\n",
            "Requirement already satisfied: pandas<3.0,>=1.0 in /usr/local/lib/python3.11/dist-packages (from gradio) (2.2.2)\n",
            "Requirement already satisfied: pillow<12.0,>=8.0 in /usr/local/lib/python3.11/dist-packages (from gradio) (11.1.0)\n",
            "Requirement already satisfied: pydantic>=2.0 in /usr/local/lib/python3.11/dist-packages (from gradio) (2.10.6)\n",
            "Requirement already satisfied: pydub in /usr/local/lib/python3.11/dist-packages (from gradio) (0.25.1)\n",
            "Requirement already satisfied: python-multipart>=0.0.18 in /usr/local/lib/python3.11/dist-packages (from gradio) (0.0.20)\n",
            "Requirement already satisfied: pyyaml<7.0,>=5.0 in /usr/local/lib/python3.11/dist-packages (from gradio) (6.0.2)\n",
            "Requirement already satisfied: ruff>=0.9.3 in /usr/local/lib/python3.11/dist-packages (from gradio) (0.9.6)\n",
            "Requirement already satisfied: safehttpx<0.2.0,>=0.1.6 in /usr/local/lib/python3.11/dist-packages (from gradio) (0.1.6)\n",
            "Requirement already satisfied: semantic-version~=2.0 in /usr/local/lib/python3.11/dist-packages (from gradio) (2.10.0)\n",
            "Requirement already satisfied: starlette<1.0,>=0.40.0 in /usr/local/lib/python3.11/dist-packages (from gradio) (0.45.3)\n",
            "Requirement already satisfied: tomlkit<0.14.0,>=0.12.0 in /usr/local/lib/python3.11/dist-packages (from gradio) (0.13.2)\n",
            "Requirement already satisfied: typer<1.0,>=0.12 in /usr/local/lib/python3.11/dist-packages (from gradio) (0.15.1)\n",
            "Requirement already satisfied: typing-extensions~=4.0 in /usr/local/lib/python3.11/dist-packages (from gradio) (4.12.2)\n",
            "Requirement already satisfied: uvicorn>=0.14.0 in /usr/local/lib/python3.11/dist-packages (from gradio) (0.34.0)\n",
            "Requirement already satisfied: fsspec in /usr/local/lib/python3.11/dist-packages (from gradio-client==1.7.0->gradio) (2024.10.0)\n",
            "Requirement already satisfied: websockets<15.0,>=10.0 in /usr/local/lib/python3.11/dist-packages (from gradio-client==1.7.0->gradio) (14.2)\n",
            "Requirement already satisfied: idna>=2.8 in /usr/local/lib/python3.11/dist-packages (from anyio<5.0,>=3.0->gradio) (3.10)\n",
            "Requirement already satisfied: sniffio>=1.1 in /usr/local/lib/python3.11/dist-packages (from anyio<5.0,>=3.0->gradio) (1.3.1)\n",
            "Requirement already satisfied: certifi in /usr/local/lib/python3.11/dist-packages (from httpx>=0.24.1->gradio) (2025.1.31)\n",
            "Requirement already satisfied: httpcore==1.* in /usr/local/lib/python3.11/dist-packages (from httpx>=0.24.1->gradio) (1.0.7)\n",
            "Requirement already satisfied: h11<0.15,>=0.13 in /usr/local/lib/python3.11/dist-packages (from httpcore==1.*->httpx>=0.24.1->gradio) (0.14.0)\n",
            "Requirement already satisfied: filelock in /usr/local/lib/python3.11/dist-packages (from huggingface-hub>=0.28.1->gradio) (3.17.0)\n",
            "Requirement already satisfied: requests in /usr/local/lib/python3.11/dist-packages (from huggingface-hub>=0.28.1->gradio) (2.32.3)\n",
            "Requirement already satisfied: tqdm>=4.42.1 in /usr/local/lib/python3.11/dist-packages (from huggingface-hub>=0.28.1->gradio) (4.67.1)\n",
            "Requirement already satisfied: python-dateutil>=2.8.2 in /usr/local/lib/python3.11/dist-packages (from pandas<3.0,>=1.0->gradio) (2.8.2)\n",
            "Requirement already satisfied: pytz>=2020.1 in /usr/local/lib/python3.11/dist-packages (from pandas<3.0,>=1.0->gradio) (2025.1)\n",
            "Requirement already satisfied: tzdata>=2022.7 in /usr/local/lib/python3.11/dist-packages (from pandas<3.0,>=1.0->gradio) (2025.1)\n",
            "Requirement already satisfied: annotated-types>=0.6.0 in /usr/local/lib/python3.11/dist-packages (from pydantic>=2.0->gradio) (0.7.0)\n",
            "Requirement already satisfied: pydantic-core==2.27.2 in /usr/local/lib/python3.11/dist-packages (from pydantic>=2.0->gradio) (2.27.2)\n",
            "Requirement already satisfied: click>=8.0.0 in /usr/local/lib/python3.11/dist-packages (from typer<1.0,>=0.12->gradio) (8.1.8)\n",
            "Requirement already satisfied: shellingham>=1.3.0 in /usr/local/lib/python3.11/dist-packages (from typer<1.0,>=0.12->gradio) (1.5.4)\n",
            "Requirement already satisfied: rich>=10.11.0 in /usr/local/lib/python3.11/dist-packages (from typer<1.0,>=0.12->gradio) (13.9.4)\n",
            "Requirement already satisfied: six>=1.5 in /usr/local/lib/python3.11/dist-packages (from python-dateutil>=2.8.2->pandas<3.0,>=1.0->gradio) (1.17.0)\n",
            "Requirement already satisfied: markdown-it-py>=2.2.0 in /usr/local/lib/python3.11/dist-packages (from rich>=10.11.0->typer<1.0,>=0.12->gradio) (3.0.0)\n",
            "Requirement already satisfied: pygments<3.0.0,>=2.13.0 in /usr/local/lib/python3.11/dist-packages (from rich>=10.11.0->typer<1.0,>=0.12->gradio) (2.18.0)\n",
            "Requirement already satisfied: charset-normalizer<4,>=2 in /usr/local/lib/python3.11/dist-packages (from requests->huggingface-hub>=0.28.1->gradio) (3.4.1)\n",
            "Requirement already satisfied: urllib3<3,>=1.21.1 in /usr/local/lib/python3.11/dist-packages (from requests->huggingface-hub>=0.28.1->gradio) (2.3.0)\n",
            "Requirement already satisfied: mdurl~=0.1 in /usr/local/lib/python3.11/dist-packages (from markdown-it-py>=2.2.0->rich>=10.11.0->typer<1.0,>=0.12->gradio) (0.1.2)\n"
          ]
        }
      ],
      "source": [
        "pip install gradio"
      ]
    },
    {
      "cell_type": "code",
      "execution_count": 86,
      "metadata": {
        "id": "6OMYS1o0pyBT"
      },
      "outputs": [],
      "source": [
        "import yfinance as yf\n",
        "import pandas as pd\n",
        "import numpy as np\n",
        "import joblib\n",
        "import gradio as gr\n",
        "import os\n",
        "from sklearn.linear_model import LinearRegression\n",
        "from sklearn.model_selection import train_test_split\n",
        "from sklearn.preprocessing import StandardScaler"
      ]
    },
    {
      "cell_type": "code",
      "execution_count": 87,
      "metadata": {
        "id": "c5XELBCDuHgM"
      },
      "outputs": [],
      "source": [
        "tickers = [\n",
        "    'RELIANCE.NS', 'TCS.NS', 'INFY.NS', 'HDFCBANK.NS', 'ICICIBANK.NS',\n",
        "    'HINDUNILVR.NS', 'ITC.NS', 'KOTAKBANK.NS', 'LT.NS', 'SBIN.NS',\n",
        "    'BHARTIARTL.NS', 'ASIANPAINT.NS', 'HCLTECH.NS', 'MARUTI.NS', 'AXISBANK.NS',\n",
        "    'BAJFINANCE.NS', 'WIPRO.NS', 'SUNPHARMA.NS', 'NESTLEIND.NS', 'ULTRACEMCO.NS',\n",
        "    'TITAN.NS', 'TATASTEEL.NS', 'TECHM.NS', 'POWERGRID.NS', 'INDUSINDBK.NS',\n",
        "    'M&M.NS', 'NTPC.NS', 'HDFCLIFE.NS', 'ONGC.NS', 'JSWSTEEL.NS',\n",
        "    'BAJAJFINSV.NS', 'GRASIM.NS', 'CIPLA.NS', 'SBILIFE.NS', 'TATAMOTORS.NS',\n",
        "    'COALINDIA.NS', 'ADANIPORTS.NS', 'BPCL.NS', 'DIVISLAB.NS', 'BRITANNIA.NS',\n",
        "    'APOLLOHOSP.NS', 'HEROMOTOCO.NS', 'EICHERMOT.NS', 'UPL.NS', 'DRREDDY.NS',\n",
        "    'IOC.NS', 'HINDALCO.NS', 'BAJAJ-AUTO.NS', 'TATACONSUM.NS', 'SHREECEM.NS'\n",
        "]"
      ]
    },
    {
      "cell_type": "code",
      "execution_count": 88,
      "metadata": {
        "id": "XXjRyiHTuKB5"
      },
      "outputs": [],
      "source": [
        "def fetch_data(ticker):\n",
        "    data = yf.download(ticker, start='2020-01-01', end='2025-01-01')\n",
        "    return data\n",
        "\n",
        "# ✅ Function to train and save model\n",
        "def train_model(ticker):\n",
        "    print(f\"Training model for {ticker}...\")\n",
        "    try:\n",
        "        data = fetch_data(ticker)\n",
        "        if data.empty:\n",
        "            return f\"Error: No data found for {ticker}.\"\n",
        "\n",
        "        data['Next_Close'] = data['Close'].shift(-1)\n",
        "        data.dropna(inplace=True)\n",
        "\n",
        "        X = data[['Open', 'High', 'Low', 'Close', 'Volume']]\n",
        "        y = data['Next_Close']\n",
        "\n",
        "        scaler = StandardScaler()\n",
        "        X_scaled = scaler.fit_transform(X)\n",
        "\n",
        "        X_train, X_test, y_train, y_test = train_test_split(X_scaled, y, test_size=0.2, random_state=42)\n",
        "\n",
        "        model = LinearRegression()\n",
        "        model.fit(X_train, y_train)\n",
        "\n",
        "        joblib.dump((model, scaler), f'{ticker}_model.pkl')  # Save model and scaler\n",
        "        return f'Model trained and saved for {ticker}.'\n",
        "\n",
        "    except Exception as e:\n",
        "        return f\"Error training model for {ticker}: {str(e)}\""
      ]
    },
    {
      "cell_type": "code",
      "execution_count": 89,
      "metadata": {
        "id": "PK3NTc68uMg9"
      },
      "outputs": [],
      "source": [
        "# ✅ Function to predict next closing price\n",
        "def predict_price(ticker):\n",
        "    try:\n",
        "        if not os.path.exists(f'{ticker}_model.pkl'):\n",
        "            print(f\"Model file for {ticker} not found. Training now...\")\n",
        "            train_model(ticker)\n",
        "\n",
        "        model, scaler = joblib.load(f'{ticker}_model.pkl')  # Load trained model\n",
        "\n",
        "        data = fetch_data(ticker)\n",
        "        latest_data = data.iloc[-1][['Open', 'High', 'Low', 'Close', 'Volume']].values.reshape(1, -1)\n",
        "        latest_data_scaled = scaler.transform(latest_data)\n",
        "        prediction = model.predict(latest_data_scaled)\n",
        "\n",
        "        return f'Predicted Next Close Price for {ticker}: {prediction[0]:.2f}'\n",
        "\n",
        "    except Exception as e:\n",
        "        return f\"Error: {str(e)}\""
      ]
    },
    {
      "cell_type": "code",
      "execution_count": 90,
      "metadata": {
        "colab": {
          "base_uri": "https://localhost:8080/",
          "height": 610
        },
        "id": "czewKZ90uPRt",
        "outputId": "9767c8e7-4c89-4d31-974a-f00fee393ccc"
      },
      "outputs": [
        {
          "output_type": "stream",
          "name": "stdout",
          "text": [
            "Colab notebook detected. To show errors in colab notebook, set debug=True in launch()\n",
            "* Running on public URL: https://f44391ffd3e05d8f09.gradio.live\n",
            "\n",
            "This share link expires in 72 hours. For free permanent hosting and GPU upgrades, run `gradio deploy` from the terminal in the working directory to deploy to Hugging Face Spaces (https://huggingface.co/spaces)\n"
          ]
        },
        {
          "output_type": "display_data",
          "data": {
            "text/plain": [
              "<IPython.core.display.HTML object>"
            ],
            "text/html": [
              "<div><iframe src=\"https://f44391ffd3e05d8f09.gradio.live\" width=\"100%\" height=\"500\" allow=\"autoplay; camera; microphone; clipboard-read; clipboard-write;\" frameborder=\"0\" allowfullscreen></iframe></div>"
            ]
          },
          "metadata": {}
        }
      ],
      "source": [
        "import yfinance as yf\n",
        "import joblib\n",
        "import gradio as gr\n",
        "import os\n",
        "from sklearn.linear_model import LinearRegression\n",
        "from sklearn.preprocessing import StandardScaler\n",
        "from sklearn.model_selection import train_test_split\n",
        "import pandas as pd\n",
        "\n",
        "# Fetch stock data\n",
        "def fetch_data(ticker):\n",
        "    try:\n",
        "        data = yf.download(ticker, period='1y')\n",
        "        if data.empty:\n",
        "            raise ValueError(\"No data found for the selected ticker.\")\n",
        "        return data\n",
        "    except Exception as e:\n",
        "        return f\"Error fetching data: {str(e)}\"\n",
        "\n",
        "# Train the model and save it\n",
        "def train_model(ticker):\n",
        "    try:\n",
        "        data = fetch_data(ticker)\n",
        "        if isinstance(data, str):\n",
        "            return data  # Error message from fetch_data\n",
        "\n",
        "        data['Next_Close'] = data['Close'].shift(-1)\n",
        "        data.dropna(inplace=True)\n",
        "\n",
        "        X = data[['Open', 'High', 'Low', 'Close', 'Volume']]\n",
        "        y = data['Next_Close']\n",
        "\n",
        "        scaler = StandardScaler()\n",
        "        X_scaled = scaler.fit_transform(X)\n",
        "\n",
        "        X_train, X_test, y_train, y_test = train_test_split(X_scaled, y, test_size=0.2, random_state=42)\n",
        "\n",
        "        model = LinearRegression()\n",
        "        model.fit(X_train, y_train)\n",
        "\n",
        "        joblib.dump((model, scaler), f'{ticker}_model.pkl')\n",
        "        return f'Model trained and saved for {ticker}.'\n",
        "    except Exception as e:\n",
        "        return f\"Error training model for {ticker}: {str(e)}\"\n",
        "\n",
        "# Predict the next closing price\n",
        "def predict_price(ticker):\n",
        "    try:\n",
        "        model_file = f'{ticker}_model.pkl'\n",
        "        if not os.path.exists(model_file):\n",
        "            result = train_model(ticker)\n",
        "            if \"Error\" in result:\n",
        "                return result\n",
        "\n",
        "        model, scaler = joblib.load(model_file)\n",
        "        data = fetch_data(ticker)\n",
        "        if isinstance(data, str):\n",
        "            return data\n",
        "\n",
        "        latest_data = data.iloc[-1][['Open', 'High', 'Low', 'Close', 'Volume']].values.reshape(1, -1)\n",
        "        latest_data_scaled = scaler.transform(latest_data)\n",
        "        prediction = model.predict(latest_data_scaled)\n",
        "\n",
        "        return f'Predicted Next Close Price for {ticker}: {prediction[0]:.2f}'\n",
        "\n",
        "    except Exception as e:\n",
        "        return f\"Error during prediction: {str(e)}\"\n",
        "\n",
        "# Gradio Interface\n",
        "def interface_predict(ticker):\n",
        "    return predict_price(ticker)\n",
        "\n",
        "# Dropdown with stock options\n",
        "ticker_list = [\n",
        "    'RELIANCE.NS', 'TCS.NS', 'INFY.NS', 'HDFCBANK.NS', 'ICICIBANK.NS',\n",
        "    'HINDUNILVR.NS', 'ITC.NS', 'KOTAKBANK.NS', 'LT.NS', 'SBIN.NS',\n",
        "    'BHARTIARTL.NS', 'ASIANPAINT.NS', 'HCLTECH.NS', 'MARUTI.NS', 'AXISBANK.NS',\n",
        "    'BAJFINANCE.NS', 'WIPRO.NS', 'SUNPHARMA.NS', 'NESTLEIND.NS', 'ULTRACEMCO.NS',\n",
        "    'TITAN.NS', 'TATASTEEL.NS', 'TECHM.NS', 'POWERGRID.NS', 'INDUSINDBK.NS',\n",
        "    'M&M.NS', 'NTPC.NS', 'HDFCLIFE.NS', 'ONGC.NS', 'JSWSTEEL.NS',\n",
        "    'BAJAJFINSV.NS', 'GRASIM.NS', 'CIPLA.NS', 'SBILIFE.NS', 'TATAMOTORS.NS',\n",
        "    'COALINDIA.NS', 'ADANIPORTS.NS', 'BPCL.NS', 'DIVISLAB.NS', 'BRITANNIA.NS',\n",
        "    'APOLLOHOSP.NS', 'HEROMOTOCO.NS', 'EICHERMOT.NS', 'UPL.NS', 'DRREDDY.NS',\n",
        "    'IOC.NS', 'HINDALCO.NS', 'BAJAJ-AUTO.NS', 'TATACONSUM.NS', 'SHREECEM.NS'\n",
        "]\n",
        "\n",
        "# Gradio UI components\n",
        "dropdown = gr.Dropdown(label=\"Select Company\", choices=ticker_list, value=\"RELIANCE.NS\")\n",
        "output_text = gr.Textbox(label=\"Predicted Stock Price\")\n",
        "\n",
        "\n",
        "\n",
        "# Gradio interface\n",
        "gui = gr.Interface(\n",
        "    fn=interface_predict,\n",
        "    inputs=dropdown,\n",
        "    outputs=output_text,\n",
        "    title=\"📈💰 Stock Price Prediction - Linear Regression 🚀📊\",\n",
        "    description=(\n",
        "        \"🚨 **Disclaimer** 🚨\\n\"\n",
        "        \"This student project is for learning purposes only. Stock predictions shown are based on basic models and are not financial advice. \"\n",
        "        \"We are not SEBI/NSE-registered investors. Do your own research or consult a professional before investing.\\n\\n\"\n",
        "        \"Select a company to predict its next closing stock price.\\n\\n\"\n",
        "    )\n",
        ")\n",
        "\n",
        "\n",
        "\n",
        "\n",
        "# Ensuring correct script execution\n",
        "if __name__ == \"__main__\":\n",
        "    gui.launch(share=True)\n"
      ]
    }
  ],
  "metadata": {
    "colab": {
      "provenance": []
    },
    "kernelspec": {
      "display_name": "Python 3",
      "name": "python3"
    },
    "language_info": {
      "name": "python"
    }
  },
  "nbformat": 4,
  "nbformat_minor": 0
}